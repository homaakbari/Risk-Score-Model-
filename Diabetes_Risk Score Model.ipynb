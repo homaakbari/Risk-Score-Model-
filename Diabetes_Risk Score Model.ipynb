{
 "cells": [
  {
   "cell_type": "markdown",
   "id": "d2bf394d",
   "metadata": {},
   "source": [
    "# Build and Evaluate a Risk Score Model for Diabetic Patients Using Logistic Regression "
   ]
  },
  {
   "cell_type": "code",
   "execution_count": 1,
   "id": "f286f9f0",
   "metadata": {},
   "outputs": [],
   "source": [
    "import numpy as np\n",
    "import pandas as pd \n",
    "import matplotlib.pyplot as plt\n",
    "import seaborn as sns\n",
    "from sklearn.neighbors import LocalOutlierFactor\n",
    "from sklearn.experimental import enable_iterative_imputer\n",
    "from sklearn.impute import IterativeImputer\n",
    "from sklearn.model_selection import train_test_split\n",
    "from imblearn.over_sampling import SMOTE\n",
    "from sklearn import metrics\n",
    "from sklearn.metrics import roc_auc_score\n",
    "from sklearn.metrics import (roc_curve, precision_recall_curve, average_precision_score)"
   ]
  },
  {
   "cell_type": "code",
   "execution_count": 2,
   "id": "3de5b00e",
   "metadata": {},
   "outputs": [],
   "source": [
    "df=pd.read_csv(\"Data/diabetes.csv\")"
   ]
  },
  {
   "cell_type": "markdown",
   "id": "0aad863b",
   "metadata": {},
   "source": [
    "Dataset Reference: https://data.world/anaozp/diabetes"
   ]
  },
  {
   "cell_type": "code",
   "execution_count": 3,
   "id": "99510ff1",
   "metadata": {},
   "outputs": [
    {
     "name": "stdout",
     "output_type": "stream",
     "text": [
      "df shape: (768, 9)\n"
     ]
    },
    {
     "data": {
      "text/html": [
       "<div>\n",
       "<style scoped>\n",
       "    .dataframe tbody tr th:only-of-type {\n",
       "        vertical-align: middle;\n",
       "    }\n",
       "\n",
       "    .dataframe tbody tr th {\n",
       "        vertical-align: top;\n",
       "    }\n",
       "\n",
       "    .dataframe thead th {\n",
       "        text-align: right;\n",
       "    }\n",
       "</style>\n",
       "<table border=\"1\" class=\"dataframe\">\n",
       "  <thead>\n",
       "    <tr style=\"text-align: right;\">\n",
       "      <th></th>\n",
       "      <th>Pregnancies</th>\n",
       "      <th>Glucose</th>\n",
       "      <th>BloodPressure</th>\n",
       "      <th>SkinThickness</th>\n",
       "      <th>Insulin</th>\n",
       "      <th>BMI</th>\n",
       "      <th>DiabetesPedigreeFunction</th>\n",
       "      <th>Age</th>\n",
       "      <th>Outcome</th>\n",
       "    </tr>\n",
       "  </thead>\n",
       "  <tbody>\n",
       "    <tr>\n",
       "      <th>0</th>\n",
       "      <td>6</td>\n",
       "      <td>148</td>\n",
       "      <td>72</td>\n",
       "      <td>35</td>\n",
       "      <td>0</td>\n",
       "      <td>33.6</td>\n",
       "      <td>0.627</td>\n",
       "      <td>50</td>\n",
       "      <td>1</td>\n",
       "    </tr>\n",
       "    <tr>\n",
       "      <th>1</th>\n",
       "      <td>1</td>\n",
       "      <td>85</td>\n",
       "      <td>66</td>\n",
       "      <td>29</td>\n",
       "      <td>0</td>\n",
       "      <td>26.6</td>\n",
       "      <td>0.351</td>\n",
       "      <td>31</td>\n",
       "      <td>0</td>\n",
       "    </tr>\n",
       "    <tr>\n",
       "      <th>2</th>\n",
       "      <td>8</td>\n",
       "      <td>183</td>\n",
       "      <td>64</td>\n",
       "      <td>0</td>\n",
       "      <td>0</td>\n",
       "      <td>23.3</td>\n",
       "      <td>0.672</td>\n",
       "      <td>32</td>\n",
       "      <td>1</td>\n",
       "    </tr>\n",
       "    <tr>\n",
       "      <th>3</th>\n",
       "      <td>1</td>\n",
       "      <td>89</td>\n",
       "      <td>66</td>\n",
       "      <td>23</td>\n",
       "      <td>94</td>\n",
       "      <td>28.1</td>\n",
       "      <td>0.167</td>\n",
       "      <td>21</td>\n",
       "      <td>0</td>\n",
       "    </tr>\n",
       "    <tr>\n",
       "      <th>4</th>\n",
       "      <td>0</td>\n",
       "      <td>137</td>\n",
       "      <td>40</td>\n",
       "      <td>35</td>\n",
       "      <td>168</td>\n",
       "      <td>43.1</td>\n",
       "      <td>2.288</td>\n",
       "      <td>33</td>\n",
       "      <td>1</td>\n",
       "    </tr>\n",
       "  </tbody>\n",
       "</table>\n",
       "</div>"
      ],
      "text/plain": [
       "   Pregnancies  Glucose  BloodPressure  SkinThickness  Insulin   BMI  \\\n",
       "0            6      148             72             35        0  33.6   \n",
       "1            1       85             66             29        0  26.6   \n",
       "2            8      183             64              0        0  23.3   \n",
       "3            1       89             66             23       94  28.1   \n",
       "4            0      137             40             35      168  43.1   \n",
       "\n",
       "   DiabetesPedigreeFunction  Age  Outcome  \n",
       "0                     0.627   50        1  \n",
       "1                     0.351   31        0  \n",
       "2                     0.672   32        1  \n",
       "3                     0.167   21        0  \n",
       "4                     2.288   33        1  "
      ]
     },
     "execution_count": 3,
     "metadata": {},
     "output_type": "execute_result"
    }
   ],
   "source": [
    "print(\"df shape: {}\".format(df.shape))\n",
    "df.head()"
   ]
  },
  {
   "cell_type": "markdown",
   "id": "c8b6d9d3",
   "metadata": {},
   "source": [
    "1 : diabetic Patients         \n",
    "0 : non-diabetic Patients"
   ]
  },
  {
   "cell_type": "code",
   "execution_count": 4,
   "id": "d05696db",
   "metadata": {},
   "outputs": [
    {
     "name": "stdout",
     "output_type": "stream",
     "text": [
      "<class 'pandas.core.frame.DataFrame'>\n",
      "RangeIndex: 768 entries, 0 to 767\n",
      "Data columns (total 9 columns):\n",
      " #   Column                    Non-Null Count  Dtype  \n",
      "---  ------                    --------------  -----  \n",
      " 0   Pregnancies               768 non-null    int64  \n",
      " 1   Glucose                   768 non-null    int64  \n",
      " 2   BloodPressure             768 non-null    int64  \n",
      " 3   SkinThickness             768 non-null    int64  \n",
      " 4   Insulin                   768 non-null    int64  \n",
      " 5   BMI                       768 non-null    float64\n",
      " 6   DiabetesPedigreeFunction  768 non-null    float64\n",
      " 7   Age                       768 non-null    int64  \n",
      " 8   Outcome                   768 non-null    int64  \n",
      "dtypes: float64(2), int64(7)\n",
      "memory usage: 54.1 KB\n"
     ]
    }
   ],
   "source": [
    "df.info()"
   ]
  },
  {
   "cell_type": "code",
   "execution_count": 5,
   "id": "ccdfa45c",
   "metadata": {},
   "outputs": [
    {
     "name": "stdout",
     "output_type": "stream",
     "text": [
      "(768, 9) (768, 9)\n"
     ]
    }
   ],
   "source": [
    "df_dup=df.drop_duplicates()\n",
    "print(df.shape,df_dup.shape)"
   ]
  },
  {
   "cell_type": "code",
   "execution_count": 6,
   "id": "8cb1e744",
   "metadata": {},
   "outputs": [
    {
     "data": {
      "image/png": "[encoded data removed]",
      "text/plain": [
       "<Figure size 1008x720 with 2 Axes>"
      ]
     },
     "metadata": {
      "needs_background": "light"
     },
     "output_type": "display_data"
    }
   ],
   "source": [
    "plt.figure(figsize=(14,10))\n",
    "\n",
    "sns.heatmap(df.corr(),annot=True,cmap='hsv',fmt='.3f',linewidths=2)\n",
    "plt.show()"
   ]
  },
  {
   "cell_type": "code",
   "execution_count": 7,
   "id": "09304ac1",
   "metadata": {},
   "outputs": [
    {
     "data": {
      "text/html": [
       "<div>\n",
       "<style scoped>\n",
       "    .dataframe tbody tr th:only-of-type {\n",
       "        vertical-align: middle;\n",
       "    }\n",
       "\n",
       "    .dataframe tbody tr th {\n",
       "        vertical-align: top;\n",
       "    }\n",
       "\n",
       "    .dataframe thead th {\n",
       "        text-align: right;\n",
       "    }\n",
       "</style>\n",
       "<table border=\"1\" class=\"dataframe\">\n",
       "  <thead>\n",
       "    <tr style=\"text-align: right;\">\n",
       "      <th></th>\n",
       "      <th>Pregnancies</th>\n",
       "      <th>Glucose</th>\n",
       "      <th>BloodPressure</th>\n",
       "      <th>SkinThickness</th>\n",
       "      <th>Insulin</th>\n",
       "      <th>BMI</th>\n",
       "      <th>DiabetesPedigreeFunction</th>\n",
       "      <th>Age</th>\n",
       "      <th>Outcome</th>\n",
       "    </tr>\n",
       "  </thead>\n",
       "  <tbody>\n",
       "    <tr>\n",
       "      <th>count</th>\n",
       "      <td>768.000000</td>\n",
       "      <td>768.000000</td>\n",
       "      <td>768.000000</td>\n",
       "      <td>768.000000</td>\n",
       "      <td>768.000000</td>\n",
       "      <td>768.000000</td>\n",
       "      <td>768.000000</td>\n",
       "      <td>768.000000</td>\n",
       "      <td>768.000000</td>\n",
       "    </tr>\n",
       "    <tr>\n",
       "      <th>mean</th>\n",
       "      <td>3.845052</td>\n",
       "      <td>120.894531</td>\n",
       "      <td>69.105469</td>\n",
       "      <td>20.536458</td>\n",
       "      <td>79.799479</td>\n",
       "      <td>31.992578</td>\n",
       "      <td>0.471876</td>\n",
       "      <td>33.240885</td>\n",
       "      <td>0.348958</td>\n",
       "    </tr>\n",
       "    <tr>\n",
       "      <th>std</th>\n",
       "      <td>3.369578</td>\n",
       "      <td>31.972618</td>\n",
       "      <td>19.355807</td>\n",
       "      <td>15.952218</td>\n",
       "      <td>115.244002</td>\n",
       "      <td>7.884160</td>\n",
       "      <td>0.331329</td>\n",
       "      <td>11.760232</td>\n",
       "      <td>0.476951</td>\n",
       "    </tr>\n",
       "    <tr>\n",
       "      <th>min</th>\n",
       "      <td>0.000000</td>\n",
       "      <td>0.000000</td>\n",
       "      <td>0.000000</td>\n",
       "      <td>0.000000</td>\n",
       "      <td>0.000000</td>\n",
       "      <td>0.000000</td>\n",
       "      <td>0.078000</td>\n",
       "      <td>21.000000</td>\n",
       "      <td>0.000000</td>\n",
       "    </tr>\n",
       "    <tr>\n",
       "      <th>25%</th>\n",
       "      <td>1.000000</td>\n",
       "      <td>99.000000</td>\n",
       "      <td>62.000000</td>\n",
       "      <td>0.000000</td>\n",
       "      <td>0.000000</td>\n",
       "      <td>27.300000</td>\n",
       "      <td>0.243750</td>\n",
       "      <td>24.000000</td>\n",
       "      <td>0.000000</td>\n",
       "    </tr>\n",
       "    <tr>\n",
       "      <th>50%</th>\n",
       "      <td>3.000000</td>\n",
       "      <td>117.000000</td>\n",
       "      <td>72.000000</td>\n",
       "      <td>23.000000</td>\n",
       "      <td>30.500000</td>\n",
       "      <td>32.000000</td>\n",
       "      <td>0.372500</td>\n",
       "      <td>29.000000</td>\n",
       "      <td>0.000000</td>\n",
       "    </tr>\n",
       "    <tr>\n",
       "      <th>75%</th>\n",
       "      <td>6.000000</td>\n",
       "      <td>140.250000</td>\n",
       "      <td>80.000000</td>\n",
       "      <td>32.000000</td>\n",
       "      <td>127.250000</td>\n",
       "      <td>36.600000</td>\n",
       "      <td>0.626250</td>\n",
       "      <td>41.000000</td>\n",
       "      <td>1.000000</td>\n",
       "    </tr>\n",
       "    <tr>\n",
       "      <th>max</th>\n",
       "      <td>17.000000</td>\n",
       "      <td>199.000000</td>\n",
       "      <td>122.000000</td>\n",
       "      <td>99.000000</td>\n",
       "      <td>846.000000</td>\n",
       "      <td>67.100000</td>\n",
       "      <td>2.420000</td>\n",
       "      <td>81.000000</td>\n",
       "      <td>1.000000</td>\n",
       "    </tr>\n",
       "  </tbody>\n",
       "</table>\n",
       "</div>"
      ],
      "text/plain": [
       "       Pregnancies     Glucose  BloodPressure  SkinThickness     Insulin  \\\n",
       "count   768.000000  768.000000     768.000000     768.000000  768.000000   \n",
       "mean      3.845052  120.894531      69.105469      20.536458   79.799479   \n",
       "std       3.369578   31.972618      19.355807      15.952218  115.244002   \n",
       "min       0.000000    0.000000       0.000000       0.000000    0.000000   \n",
       "25%       1.000000   99.000000      62.000000       0.000000    0.000000   \n",
       "50%       3.000000  117.000000      72.000000      23.000000   30.500000   \n",
       "75%       6.000000  140.250000      80.000000      32.000000  127.250000   \n",
       "max      17.000000  199.000000     122.000000      99.000000  846.000000   \n",
       "\n",
       "              BMI  DiabetesPedigreeFunction         Age     Outcome  \n",
       "count  768.000000                768.000000  768.000000  768.000000  \n",
       "mean    31.992578                  0.471876   33.240885    0.348958  \n",
       "std      7.884160                  0.331329   11.760232    0.476951  \n",
       "min      0.000000                  0.078000   21.000000    0.000000  \n",
       "25%     27.300000                  0.243750   24.000000    0.000000  \n",
       "50%     32.000000                  0.372500   29.000000    0.000000  \n",
       "75%     36.600000                  0.626250   41.000000    1.000000  \n",
       "max     67.100000                  2.420000   81.000000    1.000000  "
      ]
     },
     "execution_count": 7,
     "metadata": {},
     "output_type": "execute_result"
    }
   ],
   "source": [
    "df.describe()"
   ]
  },
  {
   "cell_type": "code",
   "execution_count": 8,
   "id": "42c4bd03",
   "metadata": {},
   "outputs": [
    {
     "data": {
      "text/plain": [
       "(35, 9)"
      ]
     },
     "execution_count": 8,
     "metadata": {},
     "output_type": "execute_result"
    }
   ],
   "source": [
    "mydata=df[df['BloodPressure']==0]\n",
    "mydata.shape"
   ]
  },
  {
   "cell_type": "code",
   "execution_count": 9,
   "id": "8fc8a085",
   "metadata": {},
   "outputs": [
    {
     "data": {
      "text/plain": [
       "(227, 9)"
      ]
     },
     "execution_count": 9,
     "metadata": {},
     "output_type": "execute_result"
    }
   ],
   "source": [
    "mydata_1=df[df['SkinThickness']==0]\n",
    "mydata_1.shape "
   ]
  },
  {
   "cell_type": "code",
   "execution_count": 10,
   "id": "233f1bd5",
   "metadata": {},
   "outputs": [
    {
     "data": {
      "text/plain": [
       "(11, 9)"
      ]
     },
     "execution_count": 10,
     "metadata": {},
     "output_type": "execute_result"
    }
   ],
   "source": [
    "mydata_2=df[df['BMI']==0]\n",
    "mydata_2.shape "
   ]
  },
  {
   "cell_type": "code",
   "execution_count": 11,
   "id": "308a5348",
   "metadata": {},
   "outputs": [
    {
     "data": {
      "text/plain": [
       "(0, 9)"
      ]
     },
     "execution_count": 11,
     "metadata": {},
     "output_type": "execute_result"
    }
   ],
   "source": [
    "mydata_3=df[df['Age']<=0]\n",
    "mydata_3.shape "
   ]
  },
  {
   "cell_type": "code",
   "execution_count": 12,
   "id": "08b9a457",
   "metadata": {},
   "outputs": [],
   "source": [
    "df_1=df"
   ]
  },
  {
   "cell_type": "code",
   "execution_count": 13,
   "id": "b29c3d9f",
   "metadata": {},
   "outputs": [],
   "source": [
    "df_1['SkinThickness']=df_1['SkinThickness'].replace(0, np.nan)"
   ]
  },
  {
   "cell_type": "code",
   "execution_count": 14,
   "id": "889be39e",
   "metadata": {},
   "outputs": [],
   "source": [
    "df_1['BloodPressure']=df_1['BloodPressure'].replace(0, np.nan)"
   ]
  },
  {
   "cell_type": "code",
   "execution_count": 15,
   "id": "7c5dc7d6",
   "metadata": {},
   "outputs": [],
   "source": [
    "df_1['BMI']=df_1['BMI'].replace(0, np.nan)"
   ]
  },
  {
   "cell_type": "code",
   "execution_count": 16,
   "id": "faa8f925",
   "metadata": {},
   "outputs": [
    {
     "name": "stdout",
     "output_type": "stream",
     "text": [
      "<class 'pandas.core.frame.DataFrame'>\n",
      "RangeIndex: 768 entries, 0 to 767\n",
      "Data columns (total 9 columns):\n",
      " #   Column                    Non-Null Count  Dtype  \n",
      "---  ------                    --------------  -----  \n",
      " 0   Pregnancies               768 non-null    int64  \n",
      " 1   Glucose                   768 non-null    int64  \n",
      " 2   BloodPressure             733 non-null    float64\n",
      " 3   SkinThickness             541 non-null    float64\n",
      " 4   Insulin                   768 non-null    int64  \n",
      " 5   BMI                       757 non-null    float64\n",
      " 6   DiabetesPedigreeFunction  768 non-null    float64\n",
      " 7   Age                       768 non-null    int64  \n",
      " 8   Outcome                   768 non-null    int64  \n",
      "dtypes: float64(4), int64(5)\n",
      "memory usage: 54.1 KB\n"
     ]
    }
   ],
   "source": [
    "df_1.info()"
   ]
  },
  {
   "cell_type": "code",
   "execution_count": 17,
   "id": "281c9f71",
   "metadata": {},
   "outputs": [],
   "source": [
    "X=df_1.drop('Outcome', axis=1)\n",
    "y=df_1['Outcome']"
   ]
  },
  {
   "cell_type": "code",
   "execution_count": 18,
   "id": "876ae5a5",
   "metadata": {},
   "outputs": [
    {
     "name": "stderr",
     "output_type": "stream",
     "text": [
      "C:\\Users\\user\\anaconda3\\lib\\site-packages\\sklearn\\impute\\_iterative.py:700: ConvergenceWarning: [IterativeImputer] Early stopping criterion not reached.\n",
      "  warnings.warn(\n"
     ]
    }
   ],
   "source": [
    "imputer = IterativeImputer(random_state=0, sample_posterior=False, max_iter=1, min_value=0)\n",
    "imputer.fit(X)\n",
    "X = pd.DataFrame(imputer.transform(X), columns=X.columns)"
   ]
  },
  {
   "cell_type": "code",
   "execution_count": 19,
   "id": "66c1a0ef",
   "metadata": {},
   "outputs": [
    {
     "name": "stdout",
     "output_type": "stream",
     "text": [
      "<class 'pandas.core.frame.DataFrame'>\n",
      "RangeIndex: 768 entries, 0 to 767\n",
      "Data columns (total 8 columns):\n",
      " #   Column                    Non-Null Count  Dtype  \n",
      "---  ------                    --------------  -----  \n",
      " 0   Pregnancies               768 non-null    float64\n",
      " 1   Glucose                   768 non-null    float64\n",
      " 2   BloodPressure             768 non-null    float64\n",
      " 3   SkinThickness             768 non-null    float64\n",
      " 4   Insulin                   768 non-null    float64\n",
      " 5   BMI                       768 non-null    float64\n",
      " 6   DiabetesPedigreeFunction  768 non-null    float64\n",
      " 7   Age                       768 non-null    float64\n",
      "dtypes: float64(8)\n",
      "memory usage: 48.1 KB\n"
     ]
    }
   ],
   "source": [
    "X.info()"
   ]
  },
  {
   "cell_type": "code",
   "execution_count": 20,
   "id": "bb5f8f1c",
   "metadata": {},
   "outputs": [
    {
     "data": {
      "text/plain": [
       "(0, 8)"
      ]
     },
     "execution_count": 20,
     "metadata": {},
     "output_type": "execute_result"
    }
   ],
   "source": [
    "mydata=X[X['BloodPressure']==0]\n",
    "mydata.shape"
   ]
  },
  {
   "cell_type": "code",
   "execution_count": 21,
   "id": "6a297c6f",
   "metadata": {},
   "outputs": [
    {
     "data": {
      "text/plain": [
       "(0, 8)"
      ]
     },
     "execution_count": 21,
     "metadata": {},
     "output_type": "execute_result"
    }
   ],
   "source": [
    "mydata_1=X[X['SkinThickness']==0]\n",
    "mydata_1.shape"
   ]
  },
  {
   "cell_type": "code",
   "execution_count": 22,
   "id": "99778caf",
   "metadata": {},
   "outputs": [
    {
     "data": {
      "text/plain": [
       "(0, 8)"
      ]
     },
     "execution_count": 22,
     "metadata": {},
     "output_type": "execute_result"
    }
   ],
   "source": [
    "mydata_2=X[X['BMI']==0]\n",
    "mydata_2.shape"
   ]
  },
  {
   "cell_type": "code",
   "execution_count": 23,
   "id": "4a86fbfd",
   "metadata": {},
   "outputs": [
    {
     "data": {
      "image/png": "[encoded data removed]",
      "text/plain": [
       "<Figure size 432x288 with 1 Axes>"
      ]
     },
     "metadata": {
      "needs_background": "light"
     },
     "output_type": "display_data"
    },
    {
     "data": {
      "image/png": "[encoded data removed]",
      "text/plain": [
       "<Figure size 432x288 with 1 Axes>"
      ]
     },
     "metadata": {
      "needs_background": "light"
     },
     "output_type": "display_data"
    },
    {
     "data": {
      "image/png": "[encoded data removed]",
      "text/plain": [
       "<Figure size 432x288 with 1 Axes>"
      ]
     },
     "metadata": {
      "needs_background": "light"
     },
     "output_type": "display_data"
    },
    {
     "data": {
      "image/png": "[encoded data removed]",
      "text/plain": [
       "<Figure size 432x288 with 1 Axes>"
      ]
     },
     "metadata": {
      "needs_background": "light"
     },
     "output_type": "display_data"
    },
    {
     "data": {
      "image/png": "[encoded data removed]",
      "text/plain": [
       "<Figure size 432x288 with 1 Axes>"
      ]
     },
     "metadata": {
      "needs_background": "light"
     },
     "output_type": "display_data"
    },
    {
     "data": {
      "image/png": "[encoded data removed]",
      "text/plain": [
       "<Figure size 432x288 with 1 Axes>"
      ]
     },
     "metadata": {
      "needs_background": "light"
     },
     "output_type": "display_data"
    },
    {
     "data": {
      "image/png": "[encoded data removed]",
      "text/plain": [
       "<Figure size 432x288 with 1 Axes>"
      ]
     },
     "metadata": {
      "needs_background": "light"
     },
     "output_type": "display_data"
    },
    {
     "data": {
      "image/png": "[encoded data removed]",
      "text/plain": [
       "<Figure size 432x288 with 1 Axes>"
      ]
     },
     "metadata": {
      "needs_background": "light"
     },
     "output_type": "display_data"
    }
   ],
   "source": [
    "for col in X.columns:\n",
    "    sns.boxplot(x=X.loc[:, col])\n",
    "    plt.title(col)\n",
    "    plt.show()"
   ]
  },
  {
   "cell_type": "code",
   "execution_count": 24,
   "id": "ae261c27",
   "metadata": {},
   "outputs": [
    {
     "name": "stdout",
     "output_type": "stream",
     "text": [
      "(768, 8) (739, 8) (739,)\n"
     ]
    }
   ],
   "source": [
    "lof = LocalOutlierFactor(n_neighbors = 10)\n",
    "res = lof.fit_predict(X)\n",
    "X_o = X[res != -1]\n",
    "y_o = y[res != -1]\n",
    "print(X.shape, X_o.shape, y_o.shape)"
   ]
  },
  {
   "cell_type": "code",
   "execution_count": 25,
   "id": "fabe37b2",
   "metadata": {},
   "outputs": [],
   "source": [
    "X_train, X_test, y_train, y_test = train_test_split(X_o, y_o, test_size=0.25, random_state=0)"
   ]
  },
  {
   "cell_type": "code",
   "execution_count": 26,
   "id": "6e15886d",
   "metadata": {},
   "outputs": [],
   "source": [
    "X_test_1= X_test.copy(deep=True)"
   ]
  },
  {
   "cell_type": "code",
   "execution_count": 27,
   "id": "133d1850",
   "metadata": {},
   "outputs": [
    {
     "name": "stdout",
     "output_type": "stream",
     "text": [
      "Pregnancies                  5.000000\n",
      "Glucose                     78.000000\n",
      "BloodPressure               48.000000\n",
      "SkinThickness               29.312309\n",
      "Insulin                      0.000000\n",
      "BMI                         33.700000\n",
      "DiabetesPedigreeFunction     0.654000\n",
      "Age                         25.000000\n",
      "Name: 117, dtype: float64\n",
      "\n",
      "Is the patient diabetic? 0\n"
     ]
    }
   ],
   "source": [
    "i = 5\n",
    "print(X_train.iloc[i,:])\n",
    "print(\"\\nIs the patient diabetic? {}\".format(y_train.loc[y_train.index[i]]))"
   ]
  },
  {
   "cell_type": "code",
   "execution_count": 28,
   "id": "32c99cc0",
   "metadata": {},
   "outputs": [
    {
     "data": {
      "image/png": "[encoded data removed]",
      "text/plain": [
       "<Figure size 432x288 with 1 Axes>"
      ]
     },
     "metadata": {
      "needs_background": "light"
     },
     "output_type": "display_data"
    },
    {
     "data": {
      "image/png": "[encoded data removed]",
      "text/plain": [
       "<Figure size 432x288 with 1 Axes>"
      ]
     },
     "metadata": {
      "needs_background": "light"
     },
     "output_type": "display_data"
    },
    {
     "data": {
      "image/png": "[encoded data removed]",
      "text/plain": [
       "<Figure size 432x288 with 1 Axes>"
      ]
     },
     "metadata": {
      "needs_background": "light"
     },
     "output_type": "display_data"
    },
    {
     "data": {
      "image/png": "[encoded data removed]",
      "text/plain": [
       "<Figure size 432x288 with 1 Axes>"
      ]
     },
     "metadata": {
      "needs_background": "light"
     },
     "output_type": "display_data"
    },
    {
     "data": {
      "image/png": "[encoded data removed]",
      "text/plain": [
       "<Figure size 432x288 with 1 Axes>"
      ]
     },
     "metadata": {
      "needs_background": "light"
     },
     "output_type": "display_data"
    },
    {
     "data": {
      "image/png": "[encoded data removed]",
      "text/plain": [
       "<Figure size 432x288 with 1 Axes>"
      ]
     },
     "metadata": {
      "needs_background": "light"
     },
     "output_type": "display_data"
    },
    {
     "data": {
      "image/png": "[encoded data removed]",
      "text/plain": [
       "<Figure size 432x288 with 1 Axes>"
      ]
     },
     "metadata": {
      "needs_background": "light"
     },
     "output_type": "display_data"
    },
    {
     "data": {
      "image/png": "[encoded data removed]",
      "text/plain": [
       "<Figure size 432x288 with 1 Axes>"
      ]
     },
     "metadata": {
      "needs_background": "light"
     },
     "output_type": "display_data"
    }
   ],
   "source": [
    "for col in X_train.columns:\n",
    "    X_train.loc[:, col].hist()\n",
    "    plt.title(col)\n",
    "    plt.show()"
   ]
  },
  {
   "cell_type": "code",
   "execution_count": 29,
   "id": "c7b8792f",
   "metadata": {},
   "outputs": [
    {
     "data": {
      "text/html": [
       "<div>\n",
       "<style scoped>\n",
       "    .dataframe tbody tr th:only-of-type {\n",
       "        vertical-align: middle;\n",
       "    }\n",
       "\n",
       "    .dataframe tbody tr th {\n",
       "        vertical-align: top;\n",
       "    }\n",
       "\n",
       "    .dataframe thead th {\n",
       "        text-align: right;\n",
       "    }\n",
       "</style>\n",
       "<table border=\"1\" class=\"dataframe\">\n",
       "  <thead>\n",
       "    <tr style=\"text-align: right;\">\n",
       "      <th></th>\n",
       "      <th>Pregnancies</th>\n",
       "      <th>Glucose</th>\n",
       "      <th>BloodPressure</th>\n",
       "      <th>SkinThickness</th>\n",
       "      <th>Insulin</th>\n",
       "      <th>BMI</th>\n",
       "      <th>DiabetesPedigreeFunction</th>\n",
       "      <th>Age</th>\n",
       "    </tr>\n",
       "  </thead>\n",
       "  <tbody>\n",
       "    <tr>\n",
       "      <th>count</th>\n",
       "      <td>554.000000</td>\n",
       "      <td>554.000000</td>\n",
       "      <td>554.000000</td>\n",
       "      <td>554.000000</td>\n",
       "      <td>554.000000</td>\n",
       "      <td>554.000000</td>\n",
       "      <td>554.000000</td>\n",
       "      <td>554.000000</td>\n",
       "    </tr>\n",
       "    <tr>\n",
       "      <th>mean</th>\n",
       "      <td>3.880866</td>\n",
       "      <td>122.451264</td>\n",
       "      <td>72.502657</td>\n",
       "      <td>29.305701</td>\n",
       "      <td>77.507220</td>\n",
       "      <td>32.506220</td>\n",
       "      <td>0.476152</td>\n",
       "      <td>33.328520</td>\n",
       "    </tr>\n",
       "    <tr>\n",
       "      <th>std</th>\n",
       "      <td>3.381723</td>\n",
       "      <td>30.061034</td>\n",
       "      <td>11.534572</td>\n",
       "      <td>9.270608</td>\n",
       "      <td>105.239179</td>\n",
       "      <td>6.719757</td>\n",
       "      <td>0.321136</td>\n",
       "      <td>11.555215</td>\n",
       "    </tr>\n",
       "    <tr>\n",
       "      <th>min</th>\n",
       "      <td>0.000000</td>\n",
       "      <td>57.000000</td>\n",
       "      <td>38.000000</td>\n",
       "      <td>7.000000</td>\n",
       "      <td>0.000000</td>\n",
       "      <td>18.200000</td>\n",
       "      <td>0.078000</td>\n",
       "      <td>21.000000</td>\n",
       "    </tr>\n",
       "    <tr>\n",
       "      <th>25%</th>\n",
       "      <td>1.000000</td>\n",
       "      <td>100.000000</td>\n",
       "      <td>64.000000</td>\n",
       "      <td>23.000000</td>\n",
       "      <td>0.000000</td>\n",
       "      <td>27.625000</td>\n",
       "      <td>0.245000</td>\n",
       "      <td>24.000000</td>\n",
       "    </tr>\n",
       "    <tr>\n",
       "      <th>50%</th>\n",
       "      <td>3.000000</td>\n",
       "      <td>118.500000</td>\n",
       "      <td>72.000000</td>\n",
       "      <td>29.000000</td>\n",
       "      <td>38.500000</td>\n",
       "      <td>32.300000</td>\n",
       "      <td>0.390000</td>\n",
       "      <td>29.000000</td>\n",
       "    </tr>\n",
       "    <tr>\n",
       "      <th>75%</th>\n",
       "      <td>6.000000</td>\n",
       "      <td>141.000000</td>\n",
       "      <td>80.000000</td>\n",
       "      <td>35.937108</td>\n",
       "      <td>129.750000</td>\n",
       "      <td>36.600000</td>\n",
       "      <td>0.630750</td>\n",
       "      <td>41.000000</td>\n",
       "    </tr>\n",
       "    <tr>\n",
       "      <th>max</th>\n",
       "      <td>17.000000</td>\n",
       "      <td>199.000000</td>\n",
       "      <td>114.000000</td>\n",
       "      <td>60.000000</td>\n",
       "      <td>600.000000</td>\n",
       "      <td>57.300000</td>\n",
       "      <td>2.288000</td>\n",
       "      <td>72.000000</td>\n",
       "    </tr>\n",
       "  </tbody>\n",
       "</table>\n",
       "</div>"
      ],
      "text/plain": [
       "       Pregnancies     Glucose  BloodPressure  SkinThickness     Insulin  \\\n",
       "count   554.000000  554.000000     554.000000     554.000000  554.000000   \n",
       "mean      3.880866  122.451264      72.502657      29.305701   77.507220   \n",
       "std       3.381723   30.061034      11.534572       9.270608  105.239179   \n",
       "min       0.000000   57.000000      38.000000       7.000000    0.000000   \n",
       "25%       1.000000  100.000000      64.000000      23.000000    0.000000   \n",
       "50%       3.000000  118.500000      72.000000      29.000000   38.500000   \n",
       "75%       6.000000  141.000000      80.000000      35.937108  129.750000   \n",
       "max      17.000000  199.000000     114.000000      60.000000  600.000000   \n",
       "\n",
       "              BMI  DiabetesPedigreeFunction         Age  \n",
       "count  554.000000                554.000000  554.000000  \n",
       "mean    32.506220                  0.476152   33.328520  \n",
       "std      6.719757                  0.321136   11.555215  \n",
       "min     18.200000                  0.078000   21.000000  \n",
       "25%     27.625000                  0.245000   24.000000  \n",
       "50%     32.300000                  0.390000   29.000000  \n",
       "75%     36.600000                  0.630750   41.000000  \n",
       "max     57.300000                  2.288000   72.000000  "
      ]
     },
     "execution_count": 29,
     "metadata": {},
     "output_type": "execute_result"
    }
   ],
   "source": [
    "X_train.describe()"
   ]
  },
  {
   "cell_type": "code",
   "execution_count": 30,
   "id": "43c904ed",
   "metadata": {},
   "outputs": [],
   "source": [
    "def Standardization(df_train, df_test):\n",
    "    \n",
    "    mean = df_train.mean(axis=0)\n",
    "    stdev = df_train.std(axis=0)\n",
    "    df_train_standardized = (df_train-mean)/(stdev)\n",
    "    df_test_standardized = (df_test-mean)/(stdev)\n",
    "    \n",
    "    return df_train_standardized, df_test_standardized "
   ]
  },
  {
   "cell_type": "code",
   "execution_count": 31,
   "id": "5e15d86e",
   "metadata": {},
   "outputs": [],
   "source": [
    "X_train, X_test = Standardization(X_train, X_test)"
   ]
  },
  {
   "cell_type": "code",
   "execution_count": 32,
   "id": "5d6a6f2b",
   "metadata": {},
   "outputs": [
    {
     "data": {
      "text/html": [
       "<div>\n",
       "<style scoped>\n",
       "    .dataframe tbody tr th:only-of-type {\n",
       "        vertical-align: middle;\n",
       "    }\n",
       "\n",
       "    .dataframe tbody tr th {\n",
       "        vertical-align: top;\n",
       "    }\n",
       "\n",
       "    .dataframe thead th {\n",
       "        text-align: right;\n",
       "    }\n",
       "</style>\n",
       "<table border=\"1\" class=\"dataframe\">\n",
       "  <thead>\n",
       "    <tr style=\"text-align: right;\">\n",
       "      <th></th>\n",
       "      <th>Pregnancies</th>\n",
       "      <th>Glucose</th>\n",
       "      <th>BloodPressure</th>\n",
       "      <th>SkinThickness</th>\n",
       "      <th>Insulin</th>\n",
       "      <th>BMI</th>\n",
       "      <th>DiabetesPedigreeFunction</th>\n",
       "      <th>Age</th>\n",
       "    </tr>\n",
       "  </thead>\n",
       "  <tbody>\n",
       "    <tr>\n",
       "      <th>count</th>\n",
       "      <td>5.540000e+02</td>\n",
       "      <td>5.540000e+02</td>\n",
       "      <td>5.540000e+02</td>\n",
       "      <td>5.540000e+02</td>\n",
       "      <td>5.540000e+02</td>\n",
       "      <td>5.540000e+02</td>\n",
       "      <td>5.540000e+02</td>\n",
       "      <td>5.540000e+02</td>\n",
       "    </tr>\n",
       "    <tr>\n",
       "      <th>mean</th>\n",
       "      <td>-2.885778e-17</td>\n",
       "      <td>-1.777559e-16</td>\n",
       "      <td>-8.156332e-16</td>\n",
       "      <td>-6.969956e-16</td>\n",
       "      <td>-9.979983e-17</td>\n",
       "      <td>-6.234483e-15</td>\n",
       "      <td>-1.195143e-16</td>\n",
       "      <td>1.900806e-16</td>\n",
       "    </tr>\n",
       "    <tr>\n",
       "      <th>std</th>\n",
       "      <td>1.000000e+00</td>\n",
       "      <td>1.000000e+00</td>\n",
       "      <td>1.000000e+00</td>\n",
       "      <td>1.000000e+00</td>\n",
       "      <td>1.000000e+00</td>\n",
       "      <td>1.000000e+00</td>\n",
       "      <td>1.000000e+00</td>\n",
       "      <td>1.000000e+00</td>\n",
       "    </tr>\n",
       "    <tr>\n",
       "      <th>min</th>\n",
       "      <td>-1.147600e+00</td>\n",
       "      <td>-2.177279e+00</td>\n",
       "      <td>-2.991239e+00</td>\n",
       "      <td>-2.406067e+00</td>\n",
       "      <td>-7.364864e-01</td>\n",
       "      <td>-2.128979e+00</td>\n",
       "      <td>-1.239824e+00</td>\n",
       "      <td>-1.066923e+00</td>\n",
       "    </tr>\n",
       "    <tr>\n",
       "      <th>25%</th>\n",
       "      <td>-8.518930e-01</td>\n",
       "      <td>-7.468560e-01</td>\n",
       "      <td>-7.371454e-01</td>\n",
       "      <td>-6.801820e-01</td>\n",
       "      <td>-7.364864e-01</td>\n",
       "      <td>-7.263982e-01</td>\n",
       "      <td>-7.197942e-01</td>\n",
       "      <td>-8.072996e-01</td>\n",
       "    </tr>\n",
       "    <tr>\n",
       "      <th>50%</th>\n",
       "      <td>-2.604786e-01</td>\n",
       "      <td>-1.314414e-01</td>\n",
       "      <td>-4.357827e-02</td>\n",
       "      <td>-3.297525e-02</td>\n",
       "      <td>-3.706530e-01</td>\n",
       "      <td>-3.068858e-02</td>\n",
       "      <td>-2.682717e-01</td>\n",
       "      <td>-3.745945e-01</td>\n",
       "    </tr>\n",
       "    <tr>\n",
       "      <th>75%</th>\n",
       "      <td>6.266431e-01</td>\n",
       "      <td>6.170359e-01</td>\n",
       "      <td>6.499889e-01</td>\n",
       "      <td>7.153153e-01</td>\n",
       "      <td>4.964195e-01</td>\n",
       "      <td>6.092155e-01</td>\n",
       "      <td>4.814113e-01</td>\n",
       "      <td>6.638977e-01</td>\n",
       "    </tr>\n",
       "    <tr>\n",
       "      <th>max</th>\n",
       "      <td>3.879422e+00</td>\n",
       "      <td>2.546444e+00</td>\n",
       "      <td>3.597649e+00</td>\n",
       "      <td>3.310926e+00</td>\n",
       "      <td>4.964812e+00</td>\n",
       "      <td>3.689684e+00</td>\n",
       "      <td>5.642002e+00</td>\n",
       "      <td>3.346669e+00</td>\n",
       "    </tr>\n",
       "  </tbody>\n",
       "</table>\n",
       "</div>"
      ],
      "text/plain": [
       "        Pregnancies       Glucose  BloodPressure  SkinThickness       Insulin  \\\n",
       "count  5.540000e+02  5.540000e+02   5.540000e+02   5.540000e+02  5.540000e+02   \n",
       "mean  -2.885778e-17 -1.777559e-16  -8.156332e-16  -6.969956e-16 -9.979983e-17   \n",
       "std    1.000000e+00  1.000000e+00   1.000000e+00   1.000000e+00  1.000000e+00   \n",
       "min   -1.147600e+00 -2.177279e+00  -2.991239e+00  -2.406067e+00 -7.364864e-01   \n",
       "25%   -8.518930e-01 -7.468560e-01  -7.371454e-01  -6.801820e-01 -7.364864e-01   \n",
       "50%   -2.604786e-01 -1.314414e-01  -4.357827e-02  -3.297525e-02 -3.706530e-01   \n",
       "75%    6.266431e-01  6.170359e-01   6.499889e-01   7.153153e-01  4.964195e-01   \n",
       "max    3.879422e+00  2.546444e+00   3.597649e+00   3.310926e+00  4.964812e+00   \n",
       "\n",
       "                BMI  DiabetesPedigreeFunction           Age  \n",
       "count  5.540000e+02              5.540000e+02  5.540000e+02  \n",
       "mean  -6.234483e-15             -1.195143e-16  1.900806e-16  \n",
       "std    1.000000e+00              1.000000e+00  1.000000e+00  \n",
       "min   -2.128979e+00             -1.239824e+00 -1.066923e+00  \n",
       "25%   -7.263982e-01             -7.197942e-01 -8.072996e-01  \n",
       "50%   -3.068858e-02             -2.682717e-01 -3.745945e-01  \n",
       "75%    6.092155e-01              4.814113e-01  6.638977e-01  \n",
       "max    3.689684e+00              5.642002e+00  3.346669e+00  "
      ]
     },
     "execution_count": 32,
     "metadata": {},
     "output_type": "execute_result"
    }
   ],
   "source": [
    "X_train.describe()"
   ]
  },
  {
   "cell_type": "code",
   "execution_count": 33,
   "id": "649491c3",
   "metadata": {},
   "outputs": [
    {
     "data": {
      "image/png": "[encoded data removed]",
      "text/plain": [
       "<Figure size 432x288 with 1 Axes>"
      ]
     },
     "metadata": {
      "needs_background": "light"
     },
     "output_type": "display_data"
    },
    {
     "data": {
      "image/png": "[encoded data removed]",
      "text/plain": [
       "<Figure size 432x288 with 1 Axes>"
      ]
     },
     "metadata": {
      "needs_background": "light"
     },
     "output_type": "display_data"
    },
    {
     "data": {
      "image/png": "[encoded data removed]",
      "text/plain": [
       "<Figure size 432x288 with 1 Axes>"
      ]
     },
     "metadata": {
      "needs_background": "light"
     },
     "output_type": "display_data"
    },
    {
     "data": {
      "image/png": "[encoded data removed]",
      "text/plain": [
       "<Figure size 432x288 with 1 Axes>"
      ]
     },
     "metadata": {
      "needs_background": "light"
     },
     "output_type": "display_data"
    },
    {
     "data": {
      "image/png": "[encoded data removed]",
      "text/plain": [
       "<Figure size 432x288 with 1 Axes>"
      ]
     },
     "metadata": {
      "needs_background": "light"
     },
     "output_type": "display_data"
    },
    {
     "data": {
      "image/png": "[encoded data removed]",
      "text/plain": [
       "<Figure size 432x288 with 1 Axes>"
      ]
     },
     "metadata": {
      "needs_background": "light"
     },
     "output_type": "display_data"
    },
    {
     "data": {
      "image/png": "[encoded data removed]",
      "text/plain": [
       "<Figure size 432x288 with 1 Axes>"
      ]
     },
     "metadata": {
      "needs_background": "light"
     },
     "output_type": "display_data"
    },
    {
     "data": {
      "image/png": "[encoded data removed]",
      "text/plain": [
       "<Figure size 432x288 with 1 Axes>"
      ]
     },
     "metadata": {
      "needs_background": "light"
     },
     "output_type": "display_data"
    }
   ],
   "source": [
    " for col in X_train.columns:\n",
    "    X_train.loc[:, col].hist()\n",
    "    plt.title(col)\n",
    "    plt.show()"
   ]
  },
  {
   "cell_type": "code",
   "execution_count": 34,
   "id": "b705f876",
   "metadata": {},
   "outputs": [
    {
     "name": "stdout",
     "output_type": "stream",
     "text": [
      "0    354\n",
      "1    200\n",
      "Name: Outcome, dtype: int64\n"
     ]
    },
    {
     "name": "stderr",
     "output_type": "stream",
     "text": [
      "C:\\Users\\user\\anaconda3\\lib\\site-packages\\seaborn\\_decorators.py:36: FutureWarning: Pass the following variable as a keyword arg: x. From version 0.12, the only valid positional argument will be `data`, and passing other arguments without an explicit keyword will result in an error or misinterpretation.\n",
      "  warnings.warn(\n"
     ]
    },
    {
     "data": {
      "text/plain": [
       "<AxesSubplot:xlabel='Outcome', ylabel='count'>"
      ]
     },
     "execution_count": 34,
     "metadata": {},
     "output_type": "execute_result"
    },
    {
     "data": {
      "image/png": "[encoded data removed]",
      "text/plain": [
       "<Figure size 432x288 with 1 Axes>"
      ]
     },
     "metadata": {
      "needs_background": "light"
     },
     "output_type": "display_data"
    }
   ],
   "source": [
    "print(y_train.value_counts())\n",
    "sns.countplot(y_train)"
   ]
  },
  {
   "cell_type": "code",
   "execution_count": 35,
   "id": "43fc4632",
   "metadata": {},
   "outputs": [],
   "source": [
    "oversample = SMOTE()\n",
    "X_train, y_train = oversample.fit_resample(X_train, y_train)"
   ]
  },
  {
   "cell_type": "code",
   "execution_count": 36,
   "id": "9a0f3744",
   "metadata": {},
   "outputs": [
    {
     "data": {
      "text/plain": [
       "0    354\n",
       "1    354\n",
       "Name: Outcome, dtype: int64"
      ]
     },
     "execution_count": 36,
     "metadata": {},
     "output_type": "execute_result"
    }
   ],
   "source": [
    "y_train.value_counts()"
   ]
  },
  {
   "cell_type": "code",
   "execution_count": 37,
   "id": "92b7fee1",
   "metadata": {},
   "outputs": [
    {
     "name": "stderr",
     "output_type": "stream",
     "text": [
      "C:\\Users\\user\\anaconda3\\lib\\site-packages\\seaborn\\_decorators.py:36: FutureWarning: Pass the following variable as a keyword arg: x. From version 0.12, the only valid positional argument will be `data`, and passing other arguments without an explicit keyword will result in an error or misinterpretation.\n",
      "  warnings.warn(\n"
     ]
    },
    {
     "data": {
      "text/plain": [
       "<AxesSubplot:xlabel='Outcome', ylabel='count'>"
      ]
     },
     "execution_count": 37,
     "metadata": {},
     "output_type": "execute_result"
    },
    {
     "data": {
      "image/png": "[encoded data removed]",
      "text/plain": [
       "<Figure size 432x288 with 1 Axes>"
      ]
     },
     "metadata": {
      "needs_background": "light"
     },
     "output_type": "display_data"
    }
   ],
   "source": [
    "sns.countplot(y_train)"
   ]
  },
  {
   "cell_type": "code",
   "execution_count": 38,
   "id": "5bedf714",
   "metadata": {},
   "outputs": [],
   "source": [
    "def logistic_regression_model(X_train, y_train):\n",
    "    \n",
    "    from sklearn.linear_model import LogisticRegression\n",
    "    model = LogisticRegression()\n",
    "    model.fit(X_train, y_train)\n",
    "    return model"
   ]
  },
  {
   "cell_type": "code",
   "execution_count": 39,
   "id": "228e1acf",
   "metadata": {},
   "outputs": [],
   "source": [
    "model_X = logistic_regression_model(X_train, y_train)"
   ]
  },
  {
   "cell_type": "code",
   "execution_count": 40,
   "id": "5cf3f726",
   "metadata": {},
   "outputs": [],
   "source": [
    "y_train_preds = model_X.predict(X_train)\n",
    "y_test_preds = model_X.predict(X_test)"
   ]
  },
  {
   "cell_type": "code",
   "execution_count": 41,
   "id": "54c6b34e",
   "metadata": {},
   "outputs": [],
   "source": [
    "cnf_matrix_test = metrics.confusion_matrix(y_test, y_test_preds)"
   ]
  },
  {
   "cell_type": "code",
   "execution_count": 42,
   "id": "c7979ff7",
   "metadata": {},
   "outputs": [
    {
     "data": {
      "image/png": "[encoded data removed]",
      "text/plain": [
       "<Figure size 432x288 with 2 Axes>"
      ]
     },
     "metadata": {
      "needs_background": "light"
     },
     "output_type": "display_data"
    }
   ],
   "source": [
    "class_names=[0,1] \n",
    "fig, ax = plt.subplots()\n",
    "tick_marks = np.arange(len(class_names))\n",
    "plt.xticks(tick_marks, class_names)\n",
    "plt.yticks(tick_marks, class_names)\n",
    "sns.heatmap(pd.DataFrame(cnf_matrix_test), annot=True, cmap=\"YlGnBu\",  fmt='g')\n",
    "plt.title('Confusion matrix')\n",
    "plt.ylabel('Actual label')\n",
    "plt.xlabel('Predicted label')\n",
    "ax.xaxis.set_label_position(\"top\")"
   ]
  },
  {
   "cell_type": "code",
   "execution_count": 43,
   "id": "3e07a567",
   "metadata": {},
   "outputs": [
    {
     "name": "stdout",
     "output_type": "stream",
     "text": [
      "Train Accuracy: 0.7556497175141242\n",
      "Test Accuracy: 0.7891891891891892\n"
     ]
    }
   ],
   "source": [
    "print(\"Train Accuracy:\",metrics.accuracy_score(y_train, y_train_preds))\n",
    "print(\"Test Accuracy:\",metrics.accuracy_score(y_test, y_test_preds))"
   ]
  },
  {
   "cell_type": "code",
   "execution_count": 44,
   "id": "50871a7f",
   "metadata": {},
   "outputs": [],
   "source": [
    "def true_positives(y_true, scores, th=0.5):\n",
    "    \n",
    "    TP = 0   \n",
    "    thresholded_scores = scores >= th  \n",
    "    TP = np.sum((y_true == 1) & (thresholded_scores == 1))\n",
    "    \n",
    "    return TP\n",
    "\n",
    "def true_negatives(y_true, scores, th=0.5):\n",
    "    \n",
    "    TN = 0\n",
    "    thresholded_scores = scores >= th     \n",
    "    TN = np.sum((y_true == 0) & (thresholded_scores == 0))\n",
    "    \n",
    "    return TN\n",
    "\n",
    "def false_positives(y_true, scores, th=0.5):\n",
    "   \n",
    "    FP = 0 \n",
    "    thresholded_scores = scores >= th \n",
    "    FP = np.sum((y_true == 0) & (thresholded_scores == 1))\n",
    "            \n",
    "    return FP\n",
    "\n",
    "def false_negatives(y_true, scores, th=0.5):\n",
    "    \n",
    "    FN = 0\n",
    "    thresholded_scores = scores >= th \n",
    "    FN = np.sum((y_true == 1) & (thresholded_scores == 0))  \n",
    "    \n",
    "    return FN"
   ]
  },
  {
   "cell_type": "code",
   "execution_count": 45,
   "id": "8d78f520",
   "metadata": {},
   "outputs": [],
   "source": [
    "def get_accuracy(y_true, scores, th=0.5):\n",
    "    \n",
    "    accuracy = 0.0\n",
    "        \n",
    "    TP = true_positives(y_true, scores, th=0.5)\n",
    "    FP = false_positives(y_true, scores, th=0.5)\n",
    "    TN = true_negatives(y_true, scores, th=0.5)\n",
    "    FN = false_negatives(y_true, scores, th=0.5)\n",
    "\n",
    "    accuracy = (TP + TN) / (TP + FP + TN + FN)\n",
    "    \n",
    "    \n",
    "    return accuracy"
   ]
  },
  {
   "cell_type": "code",
   "execution_count": 46,
   "id": "af9080e9",
   "metadata": {},
   "outputs": [],
   "source": [
    "def get_prevalence(y_true):\n",
    "    \n",
    "    prevalence = 0.0\n",
    "    \n",
    "    prevalence = np.mean(y_true)\n",
    "    \n",
    "    \n",
    "    return prevalence"
   ]
  },
  {
   "cell_type": "code",
   "execution_count": 47,
   "id": "0d2bb843",
   "metadata": {},
   "outputs": [],
   "source": [
    "def get_sensitivity(y_true, scores, th=0.5):\n",
    "    \n",
    "    sensitivity = 0.0\n",
    "    \n",
    "    TP = true_positives(y_true, scores, th=0.5)\n",
    "    FN = false_negatives(y_true, scores, th=0.5)\n",
    "\n",
    "    sensitivity = (TP) / (TP + FN)\n",
    "    \n",
    "    \n",
    "    return sensitivity\n",
    "\n",
    "def get_specificity(y_true, scores, th=0.5):\n",
    "   \n",
    "    specificity = 0.0\n",
    "        \n",
    "    TN = true_negatives(y_true, scores, th=0.5)\n",
    "    FP = false_positives(y_true, scores, th=0.5)\n",
    "    \n",
    "    specificity = (TN) / (TN + FP)\n",
    "    \n",
    "   \n",
    "    return specificity"
   ]
  },
  {
   "cell_type": "code",
   "execution_count": 48,
   "id": "59ba841f",
   "metadata": {},
   "outputs": [],
   "source": [
    "def get_ppv(y_true, scores, th=0.5):\n",
    "    \n",
    "    PPV = 0.0\n",
    "    \n",
    "    TP = true_positives(y_true, scores, th=0.5)\n",
    "    FP = false_positives(y_true, scores, th=0.5)\n",
    "\n",
    "    PPV = (TP) / (TP + FP)\n",
    "    \n",
    "    \n",
    "    return PPV\n",
    "\n",
    "def get_npv(y_true, scores, th=0.5):\n",
    "   \n",
    "    NPV = 0.0\n",
    "    \n",
    "    TN = true_negatives(y_true, scores, th=0.5)\n",
    "    FN = false_negatives(y_true, scores, th=0.5)\n",
    "\n",
    "    NPV = (TN) / (TN + FN)\n",
    "    \n",
    "   \n",
    "    return NPV"
   ]
  },
  {
   "cell_type": "code",
   "execution_count": 49,
   "id": "369dfdbc",
   "metadata": {},
   "outputs": [],
   "source": [
    "def get_f1_score(y_true, scores, th=0.5):\n",
    "    \n",
    "    F1_score = 0.0\n",
    "    \n",
    "    PPV = get_ppv(y_true, scores, th=0.5)\n",
    "    sensitivity = get_sensitivity(y_true, scores, th=0.5)\n",
    "    \n",
    "    F1_score = (2 * PPV * sensitivity) / (PPV + sensitivity)\n",
    "    \n",
    "    \n",
    "    return F1_score  "
   ]
  },
  {
   "cell_type": "code",
   "execution_count": 50,
   "id": "fab5478d",
   "metadata": {},
   "outputs": [],
   "source": [
    "def get_cindex(y_true, scores):\n",
    "    \n",
    "    n = len(y_true)\n",
    "    assert len(scores) == n\n",
    "\n",
    "    concordant = 0\n",
    "    permissible = 0\n",
    "    ties = 0\n",
    "    \n",
    "    \n",
    "    for i in range(n):\n",
    "        for j in range(i + 1, n):  \n",
    "            if y_true[i] != y_true[j]:\n",
    "                permissible += 1\n",
    "\n",
    "                if scores[i] == scores[j]:\n",
    "                    ties += 1\n",
    "                    continue\n",
    "\n",
    "               \n",
    "                if y_true[i] == 0 and y_true[j] == 1:\n",
    "                    if scores[i] < scores[j]:\n",
    "                        concordant += 1\n",
    "                   \n",
    "                if y_true[i] == 1 and y_true[j] == 0:\n",
    "                    if scores[i] > scores[j]:\n",
    "                        concordant += 1\n",
    "                    \n",
    "    c_index = (concordant + 0.5 * ties) / (permissible)\n",
    "    \n",
    "    \n",
    "    return c_index"
   ]
  },
  {
   "cell_type": "code",
   "execution_count": 51,
   "id": "ccaed542",
   "metadata": {},
   "outputs": [
    {
     "name": "stdout",
     "output_type": "stream",
     "text": [
      "Train C-Index: 0.8388553736155\n",
      "Test C-Index: 0.8694666666666667\n"
     ]
    }
   ],
   "source": [
    "y_train_scores = model_X.predict_proba(X_train)[:, 1]\n",
    "print(f\"Train C-Index: {get_cindex(y_train.values, y_train_scores)}\")\n",
    "\n",
    "\n",
    "y_test_scores = model_X.predict_proba(X_test)[:, 1]\n",
    "print(f\"Test C-Index: {get_cindex(y_test.values, y_test_scores)}\")"
   ]
  },
  {
   "cell_type": "code",
   "execution_count": 52,
   "id": "65a66c48",
   "metadata": {},
   "outputs": [],
   "source": [
    "def get_performance_metrics(y_true, scores, class_labels, TP=true_positives,\n",
    "                            TN=true_negatives, FP=false_positives,\n",
    "                            FN=false_negatives,\n",
    "                            acc=get_accuracy, prevalence=get_prevalence, sens=get_sensitivity, \n",
    "                            spec=get_specificity, ppv=get_ppv, npv=get_npv, f1=get_f1_score, c_index=get_cindex, auc=None,\n",
    "                            thresholds=None):\n",
    "    \n",
    "    columns = [\"\", \"TP\", \"TN\", \"FP\", \"FN\", \"Accuracy\", \"Prevalence\", \"Sensitivity\",\n",
    "               \"Specificity\", \"PPV\", \"NPV\", \"F1_score\", \"C_Index\", \"AUC\", \"Threshold\"]\n",
    "    df = pd.DataFrame(columns=columns)\n",
    "    \n",
    "    df[\"\"] = class_labels\n",
    "    df[\"TP\"] = round(TP(y_true, scores, thresholds), 3) if TP != None else \"Not Defined\"\n",
    "    df[\"TN\"] = round(TN(y_true, scores, thresholds), 3) if TN != None else \"Not Defined\"\n",
    "    df[\"FP\"] = round(FP(y_true, scores, thresholds), 3) if FP != None else \"Not Defined\"\n",
    "    df[\"FN\"] = round(FN(y_true, scores, thresholds), 3) if FN != None else \"Not Defined\"\n",
    "    df[\"Accuracy\"] = round(acc(y_true, scores, thresholds), 3) if acc != None else \"Not Defined\"\n",
    "    df[\"Prevalence\"] = round(prevalence(y_true), 3) if prevalence != None else \"Not Defined\"\n",
    "    df[\"Sensitivity\"] = round(sens(y_true, scores, thresholds), 3) if sens != None else \"Not Defined\" \n",
    "    df[\"Specificity\"]  = round(spec(y_true, scores, thresholds), 3) if spec != None else \"Not Defined\" \n",
    "    df[\"PPV\"]  = round(ppv(y_true, scores, thresholds), 3) if ppv != None else \"Not Defined\" \n",
    "    df[\"NPV\"]  = round(npv(y_true, scores, thresholds), 3) if npv != None else \"Not Defined\" \n",
    "    df[\"F1_score\"]  = round(f1(y_true, scores, thresholds), 3) if f1 != None else \"Not Defined\"  \n",
    "    df[\"C_Index\"]  = round(c_index(y_true, scores), 3) if c_index != None else \"Not Defined\" \n",
    "    df[\"AUC\"] = round(auc(y_true, scores), 3) if auc != None else \"Not Defined\"\n",
    "    df[\"Threshold\"] =  (thresholds)\n",
    "\n",
    "    df = df.set_index(\"\")\n",
    "    return df"
   ]
  },
  {
   "cell_type": "code",
   "execution_count": 53,
   "id": "ff28758b",
   "metadata": {},
   "outputs": [],
   "source": [
    "class_labels = ['Diabetes']"
   ]
  },
  {
   "cell_type": "code",
   "execution_count": 54,
   "id": "189bf818",
   "metadata": {},
   "outputs": [
    {
     "data": {
      "text/html": [
       "<div>\n",
       "<style scoped>\n",
       "    .dataframe tbody tr th:only-of-type {\n",
       "        vertical-align: middle;\n",
       "    }\n",
       "\n",
       "    .dataframe tbody tr th {\n",
       "        vertical-align: top;\n",
       "    }\n",
       "\n",
       "    .dataframe thead th {\n",
       "        text-align: right;\n",
       "    }\n",
       "</style>\n",
       "<table border=\"1\" class=\"dataframe\">\n",
       "  <thead>\n",
       "    <tr style=\"text-align: right;\">\n",
       "      <th></th>\n",
       "      <th>TP</th>\n",
       "      <th>TN</th>\n",
       "      <th>FP</th>\n",
       "      <th>FN</th>\n",
       "      <th>Accuracy</th>\n",
       "      <th>Prevalence</th>\n",
       "      <th>Sensitivity</th>\n",
       "      <th>Specificity</th>\n",
       "      <th>PPV</th>\n",
       "      <th>NPV</th>\n",
       "      <th>F1_score</th>\n",
       "      <th>C_Index</th>\n",
       "      <th>AUC</th>\n",
       "      <th>Threshold</th>\n",
       "    </tr>\n",
       "    <tr>\n",
       "      <th></th>\n",
       "      <th></th>\n",
       "      <th></th>\n",
       "      <th></th>\n",
       "      <th></th>\n",
       "      <th></th>\n",
       "      <th></th>\n",
       "      <th></th>\n",
       "      <th></th>\n",
       "      <th></th>\n",
       "      <th></th>\n",
       "      <th></th>\n",
       "      <th></th>\n",
       "      <th></th>\n",
       "      <th></th>\n",
       "    </tr>\n",
       "  </thead>\n",
       "  <tbody>\n",
       "    <tr>\n",
       "      <th>Diabetes</th>\n",
       "      <td>45</td>\n",
       "      <td>101</td>\n",
       "      <td>24</td>\n",
       "      <td>15</td>\n",
       "      <td>0.789</td>\n",
       "      <td>0.324</td>\n",
       "      <td>0.75</td>\n",
       "      <td>0.808</td>\n",
       "      <td>0.652</td>\n",
       "      <td>0.871</td>\n",
       "      <td>0.698</td>\n",
       "      <td>0.869</td>\n",
       "      <td>0.869</td>\n",
       "      <td>0.5</td>\n",
       "    </tr>\n",
       "  </tbody>\n",
       "</table>\n",
       "</div>"
      ],
      "text/plain": [
       "          TP   TN  FP  FN  Accuracy  Prevalence  Sensitivity  Specificity  \\\n",
       "                                                                            \n",
       "Diabetes  45  101  24  15     0.789       0.324         0.75        0.808   \n",
       "\n",
       "            PPV    NPV  F1_score  C_Index    AUC  Threshold  \n",
       "                                                             \n",
       "Diabetes  0.652  0.871     0.698    0.869  0.869        0.5  "
      ]
     },
     "execution_count": 54,
     "metadata": {},
     "output_type": "execute_result"
    }
   ],
   "source": [
    "scores = model_X.predict_proba(X_test)[:, 1]\n",
    "get_performance_metrics(y_test.values, scores, class_labels, auc=roc_auc_score, thresholds=0.5)"
   ]
  },
  {
   "cell_type": "code",
   "execution_count": 55,
   "id": "300d0eae",
   "metadata": {},
   "outputs": [],
   "source": [
    "def get_curve(y_true, scores, class_labels, curve='roc'):\n",
    "    \n",
    "    if curve == 'roc':\n",
    "        curve_function = roc_curve\n",
    "        auc_roc = roc_auc_score(y_true, scores)\n",
    "        label = class_labels[0] + \" AUC: %.3f \" % auc_roc\n",
    "        xlabel = \"False positive rate\"\n",
    "        ylabel = \"True positive rate\"\n",
    "        a, b, _ = curve_function(y_true, scores)\n",
    "        plt.figure(1, figsize=(7, 7))\n",
    "        plt.plot([0, 1], [0, 1], 'k--')\n",
    "        plt.plot(a, b, label=label)\n",
    "        plt.xlabel(xlabel)\n",
    "        plt.ylabel(ylabel)\n",
    "\n",
    "        plt.legend(loc='upper center', bbox_to_anchor=(1.3, 1),\n",
    "                       fancybox=True, ncol=1)\n",
    "    elif curve == 'prc':\n",
    "        precision, recall, _ = precision_recall_curve(y_true, scores)\n",
    "        average_precision = average_precision_score(y_true, scores)\n",
    "        label = class_labels[0] + \" Avg.: %.3f \" % average_precision\n",
    "        plt.figure(1, figsize=(7, 7))\n",
    "        plt.step(recall, precision, where='post', label=label)\n",
    "        plt.xlabel('Recall')\n",
    "        plt.ylabel('Precision')\n",
    "        plt.ylim([0.0, 1.05])\n",
    "        plt.xlim([0.0, 1.0])\n",
    "        plt.legend(loc='upper center', bbox_to_anchor=(1.3, 1),\n",
    "                    fancybox=True, ncol=1)\n"
   ]
  },
  {
   "cell_type": "code",
   "execution_count": 56,
   "id": "d9c5d525",
   "metadata": {},
   "outputs": [
    {
     "data": {
      "image/png": "[encoded data removed]",
      "text/plain": [
       "<Figure size 504x504 with 1 Axes>"
      ]
     },
     "metadata": {
      "needs_background": "light"
     },
     "output_type": "display_data"
    }
   ],
   "source": [
    " get_curve(y_test.values, scores, class_labels)"
   ]
  },
  {
   "cell_type": "code",
   "execution_count": 57,
   "id": "a340abad",
   "metadata": {},
   "outputs": [
    {
     "data": {
      "image/png": "[encoded data removed]",
      "text/plain": [
       "<Figure size 504x504 with 1 Axes>"
      ]
     },
     "metadata": {
      "needs_background": "light"
     },
     "output_type": "display_data"
    }
   ],
   "source": [
    " get_curve(y_test.values, scores, class_labels, curve='prc')"
   ]
  },
  {
   "cell_type": "code",
   "execution_count": 58,
   "id": "505ed3f7",
   "metadata": {},
   "outputs": [],
   "source": [
    "def bootstrap_auc(y, pred, classes, bootstraps = 100, fold_size = 1000):\n",
    "    statistics = np.zeros((len(classes), bootstraps))\n",
    "\n",
    "    df = pd.DataFrame(columns=['y', 'pred'])\n",
    "    df.loc[:, 'y'] = y\n",
    "    df.loc[:, 'pred'] = pred\n",
    "         \n",
    "    df_pos = df[df.y == 1]\n",
    "    df_neg = df[df.y == 0]\n",
    "    prevalence = len(df_pos) / len(df)\n",
    "    for i in range(bootstraps):\n",
    "             \n",
    "        pos_sample = df_pos.sample(n = int(fold_size * prevalence), replace=True)\n",
    "        neg_sample = df_neg.sample(n = int(fold_size * (1-prevalence)), replace=True)\n",
    "\n",
    "        y_sample = np.concatenate([pos_sample.y.values, neg_sample.y.values])\n",
    "        pred_sample = np.concatenate([pos_sample.pred.values, neg_sample.pred.values])\n",
    "        score = roc_auc_score(y_sample, pred_sample)\n",
    "        statistics[0][i] = score\n",
    "    return statistics\n",
    "\n",
    "statistics = bootstrap_auc(y_test.values, scores, class_labels)"
   ]
  },
  {
   "cell_type": "code",
   "execution_count": 59,
   "id": "9667c0ac",
   "metadata": {},
   "outputs": [],
   "source": [
    "def print_confidence_intervals(class_labels, statistics):\n",
    "    df = pd.DataFrame(columns=[\"Mean AUC (CI 5%-95%)\"])\n",
    "    for i in range(len(class_labels)):\n",
    "        mean = statistics.mean(axis=1)[i]\n",
    "        max_ = np.quantile(statistics, .95, axis=1)[i]\n",
    "        min_ = np.quantile(statistics, .05, axis=1)[i]\n",
    "        df.loc[class_labels[i]] = [\"%.2f (%.2f-%.2f)\" % (mean, min_, max_)]\n",
    "    return df\n"
   ]
  },
  {
   "cell_type": "code",
   "execution_count": 60,
   "id": "aa310b9a",
   "metadata": {},
   "outputs": [
    {
     "data": {
      "text/html": [
       "<div>\n",
       "<style scoped>\n",
       "    .dataframe tbody tr th:only-of-type {\n",
       "        vertical-align: middle;\n",
       "    }\n",
       "\n",
       "    .dataframe tbody tr th {\n",
       "        vertical-align: top;\n",
       "    }\n",
       "\n",
       "    .dataframe thead th {\n",
       "        text-align: right;\n",
       "    }\n",
       "</style>\n",
       "<table border=\"1\" class=\"dataframe\">\n",
       "  <thead>\n",
       "    <tr style=\"text-align: right;\">\n",
       "      <th></th>\n",
       "      <th>Mean AUC (CI 5%-95%)</th>\n",
       "    </tr>\n",
       "  </thead>\n",
       "  <tbody>\n",
       "    <tr>\n",
       "      <th>Diabetes</th>\n",
       "      <td>0.87 (0.85-0.89)</td>\n",
       "    </tr>\n",
       "  </tbody>\n",
       "</table>\n",
       "</div>"
      ],
      "text/plain": [
       "         Mean AUC (CI 5%-95%)\n",
       "Diabetes     0.87 (0.85-0.89)"
      ]
     },
     "execution_count": 60,
     "metadata": {},
     "output_type": "execute_result"
    }
   ],
   "source": [
    "print_confidence_intervals(class_labels, statistics)"
   ]
  },
  {
   "cell_type": "code",
   "execution_count": 61,
   "id": "bf127bd2",
   "metadata": {},
   "outputs": [
    {
     "data": {
      "image/png": "[encoded data removed]",
      "text/plain": [
       "<Figure size 432x288 with 1 Axes>"
      ]
     },
     "metadata": {
      "needs_background": "light"
     },
     "output_type": "display_data"
    }
   ],
   "source": [
    "coeffs = pd.DataFrame(data = model_X.coef_, columns = X_train.columns)\n",
    "coeffs.T.plot.bar(legend=None);"
   ]
  },
  {
   "cell_type": "code",
   "execution_count": 62,
   "id": "58e90cdc",
   "metadata": {},
   "outputs": [
    {
     "data": {
      "text/html": [
       "<div>\n",
       "<style scoped>\n",
       "    .dataframe tbody tr th:only-of-type {\n",
       "        vertical-align: middle;\n",
       "    }\n",
       "\n",
       "    .dataframe tbody tr th {\n",
       "        vertical-align: top;\n",
       "    }\n",
       "\n",
       "    .dataframe thead th {\n",
       "        text-align: right;\n",
       "    }\n",
       "</style>\n",
       "<table border=\"1\" class=\"dataframe\">\n",
       "  <thead>\n",
       "    <tr style=\"text-align: right;\">\n",
       "      <th></th>\n",
       "      <th>Pregnancies</th>\n",
       "      <th>Glucose</th>\n",
       "      <th>BloodPressure</th>\n",
       "      <th>SkinThickness</th>\n",
       "      <th>Insulin</th>\n",
       "      <th>BMI</th>\n",
       "      <th>DiabetesPedigreeFunction</th>\n",
       "      <th>Age</th>\n",
       "      <th>risk</th>\n",
       "    </tr>\n",
       "  </thead>\n",
       "  <tbody>\n",
       "    <tr>\n",
       "      <th>546</th>\n",
       "      <td>5.0</td>\n",
       "      <td>187.0</td>\n",
       "      <td>76.0</td>\n",
       "      <td>27.000000</td>\n",
       "      <td>207.0</td>\n",
       "      <td>43.6</td>\n",
       "      <td>1.034</td>\n",
       "      <td>53.0</td>\n",
       "      <td>0.986710</td>\n",
       "    </tr>\n",
       "    <tr>\n",
       "      <th>408</th>\n",
       "      <td>8.0</td>\n",
       "      <td>197.0</td>\n",
       "      <td>74.0</td>\n",
       "      <td>24.947495</td>\n",
       "      <td>0.0</td>\n",
       "      <td>25.9</td>\n",
       "      <td>1.191</td>\n",
       "      <td>39.0</td>\n",
       "      <td>0.976944</td>\n",
       "    </tr>\n",
       "    <tr>\n",
       "      <th>43</th>\n",
       "      <td>9.0</td>\n",
       "      <td>171.0</td>\n",
       "      <td>110.0</td>\n",
       "      <td>24.000000</td>\n",
       "      <td>240.0</td>\n",
       "      <td>45.4</td>\n",
       "      <td>0.721</td>\n",
       "      <td>54.0</td>\n",
       "      <td>0.973157</td>\n",
       "    </tr>\n",
       "    <tr>\n",
       "      <th>761</th>\n",
       "      <td>9.0</td>\n",
       "      <td>170.0</td>\n",
       "      <td>74.0</td>\n",
       "      <td>31.000000</td>\n",
       "      <td>0.0</td>\n",
       "      <td>44.0</td>\n",
       "      <td>0.403</td>\n",
       "      <td>43.0</td>\n",
       "      <td>0.972382</td>\n",
       "    </tr>\n",
       "    <tr>\n",
       "      <th>455</th>\n",
       "      <td>14.0</td>\n",
       "      <td>175.0</td>\n",
       "      <td>62.0</td>\n",
       "      <td>30.000000</td>\n",
       "      <td>0.0</td>\n",
       "      <td>33.6</td>\n",
       "      <td>0.212</td>\n",
       "      <td>38.0</td>\n",
       "      <td>0.963632</td>\n",
       "    </tr>\n",
       "  </tbody>\n",
       "</table>\n",
       "</div>"
      ],
      "text/plain": [
       "     Pregnancies  Glucose  BloodPressure  SkinThickness  Insulin   BMI  \\\n",
       "546          5.0    187.0           76.0      27.000000    207.0  43.6   \n",
       "408          8.0    197.0           74.0      24.947495      0.0  25.9   \n",
       "43           9.0    171.0          110.0      24.000000    240.0  45.4   \n",
       "761          9.0    170.0           74.0      31.000000      0.0  44.0   \n",
       "455         14.0    175.0           62.0      30.000000      0.0  33.6   \n",
       "\n",
       "     DiabetesPedigreeFunction   Age      risk  \n",
       "546                     1.034  53.0  0.986710  \n",
       "408                     1.191  39.0  0.976944  \n",
       "43                      0.721  54.0  0.973157  \n",
       "761                     0.403  43.0  0.972382  \n",
       "455                     0.212  38.0  0.963632  "
      ]
     },
     "execution_count": 62,
     "metadata": {},
     "output_type": "execute_result"
    }
   ],
   "source": [
    "X_test_risk = X_test.copy(deep=True)\n",
    "X_test_1.loc[:, 'risk'] = model_X.predict_proba(X_test_risk)[:, 1]\n",
    "X_test_1 = X_test_1.sort_values(by='risk', ascending=False)\n",
    "X_test_1.head()"
   ]
  },
  {
   "cell_type": "code",
   "execution_count": 63,
   "id": "8b5d8c65",
   "metadata": {},
   "outputs": [
    {
     "data": {
      "text/html": [
       "<div>\n",
       "<style scoped>\n",
       "    .dataframe tbody tr th:only-of-type {\n",
       "        vertical-align: middle;\n",
       "    }\n",
       "\n",
       "    .dataframe tbody tr th {\n",
       "        vertical-align: top;\n",
       "    }\n",
       "\n",
       "    .dataframe thead th {\n",
       "        text-align: right;\n",
       "    }\n",
       "</style>\n",
       "<table border=\"1\" class=\"dataframe\">\n",
       "  <thead>\n",
       "    <tr style=\"text-align: right;\">\n",
       "      <th></th>\n",
       "      <th>Pregnancies</th>\n",
       "      <th>Glucose</th>\n",
       "      <th>BloodPressure</th>\n",
       "      <th>SkinThickness</th>\n",
       "      <th>Insulin</th>\n",
       "      <th>BMI</th>\n",
       "      <th>DiabetesPedigreeFunction</th>\n",
       "      <th>Age</th>\n",
       "      <th>risk</th>\n",
       "    </tr>\n",
       "  </thead>\n",
       "  <tbody>\n",
       "    <tr>\n",
       "      <th>count</th>\n",
       "      <td>185.000000</td>\n",
       "      <td>185.000000</td>\n",
       "      <td>185.000000</td>\n",
       "      <td>185.000000</td>\n",
       "      <td>185.000000</td>\n",
       "      <td>185.000000</td>\n",
       "      <td>185.000000</td>\n",
       "      <td>185.000000</td>\n",
       "      <td>185.000000</td>\n",
       "    </tr>\n",
       "    <tr>\n",
       "      <th>mean</th>\n",
       "      <td>3.843243</td>\n",
       "      <td>119.481081</td>\n",
       "      <td>72.708532</td>\n",
       "      <td>27.614193</td>\n",
       "      <td>83.432432</td>\n",
       "      <td>32.111653</td>\n",
       "      <td>0.443492</td>\n",
       "      <td>32.335135</td>\n",
       "      <td>0.424113</td>\n",
       "    </tr>\n",
       "    <tr>\n",
       "      <th>std</th>\n",
       "      <td>3.323544</td>\n",
       "      <td>29.956507</td>\n",
       "      <td>11.520918</td>\n",
       "      <td>8.596567</td>\n",
       "      <td>117.925995</td>\n",
       "      <td>6.219537</td>\n",
       "      <td>0.318701</td>\n",
       "      <td>11.261521</td>\n",
       "      <td>0.289962</td>\n",
       "    </tr>\n",
       "    <tr>\n",
       "      <th>min</th>\n",
       "      <td>0.000000</td>\n",
       "      <td>56.000000</td>\n",
       "      <td>44.000000</td>\n",
       "      <td>8.000000</td>\n",
       "      <td>0.000000</td>\n",
       "      <td>18.200000</td>\n",
       "      <td>0.084000</td>\n",
       "      <td>21.000000</td>\n",
       "      <td>0.019315</td>\n",
       "    </tr>\n",
       "    <tr>\n",
       "      <th>25%</th>\n",
       "      <td>1.000000</td>\n",
       "      <td>99.000000</td>\n",
       "      <td>65.000000</td>\n",
       "      <td>21.000000</td>\n",
       "      <td>0.000000</td>\n",
       "      <td>27.500000</td>\n",
       "      <td>0.237000</td>\n",
       "      <td>24.000000</td>\n",
       "      <td>0.163441</td>\n",
       "    </tr>\n",
       "    <tr>\n",
       "      <th>50%</th>\n",
       "      <td>3.000000</td>\n",
       "      <td>115.000000</td>\n",
       "      <td>70.274834</td>\n",
       "      <td>27.813210</td>\n",
       "      <td>36.000000</td>\n",
       "      <td>32.100000</td>\n",
       "      <td>0.315000</td>\n",
       "      <td>28.000000</td>\n",
       "      <td>0.370750</td>\n",
       "    </tr>\n",
       "    <tr>\n",
       "      <th>75%</th>\n",
       "      <td>6.000000</td>\n",
       "      <td>139.000000</td>\n",
       "      <td>80.000000</td>\n",
       "      <td>32.443550</td>\n",
       "      <td>130.000000</td>\n",
       "      <td>35.800000</td>\n",
       "      <td>0.597000</td>\n",
       "      <td>38.000000</td>\n",
       "      <td>0.637536</td>\n",
       "    </tr>\n",
       "    <tr>\n",
       "      <th>max</th>\n",
       "      <td>14.000000</td>\n",
       "      <td>197.000000</td>\n",
       "      <td>110.000000</td>\n",
       "      <td>49.000000</td>\n",
       "      <td>579.000000</td>\n",
       "      <td>49.300000</td>\n",
       "      <td>1.781000</td>\n",
       "      <td>68.000000</td>\n",
       "      <td>0.986710</td>\n",
       "    </tr>\n",
       "  </tbody>\n",
       "</table>\n",
       "</div>"
      ],
      "text/plain": [
       "       Pregnancies     Glucose  BloodPressure  SkinThickness     Insulin  \\\n",
       "count   185.000000  185.000000     185.000000     185.000000  185.000000   \n",
       "mean      3.843243  119.481081      72.708532      27.614193   83.432432   \n",
       "std       3.323544   29.956507      11.520918       8.596567  117.925995   \n",
       "min       0.000000   56.000000      44.000000       8.000000    0.000000   \n",
       "25%       1.000000   99.000000      65.000000      21.000000    0.000000   \n",
       "50%       3.000000  115.000000      70.274834      27.813210   36.000000   \n",
       "75%       6.000000  139.000000      80.000000      32.443550  130.000000   \n",
       "max      14.000000  197.000000     110.000000      49.000000  579.000000   \n",
       "\n",
       "              BMI  DiabetesPedigreeFunction         Age        risk  \n",
       "count  185.000000                185.000000  185.000000  185.000000  \n",
       "mean    32.111653                  0.443492   32.335135    0.424113  \n",
       "std      6.219537                  0.318701   11.261521    0.289962  \n",
       "min     18.200000                  0.084000   21.000000    0.019315  \n",
       "25%     27.500000                  0.237000   24.000000    0.163441  \n",
       "50%     32.100000                  0.315000   28.000000    0.370750  \n",
       "75%     35.800000                  0.597000   38.000000    0.637536  \n",
       "max     49.300000                  1.781000   68.000000    0.986710  "
      ]
     },
     "execution_count": 63,
     "metadata": {},
     "output_type": "execute_result"
    }
   ],
   "source": [
    "X_test_1.describe()"
   ]
  },
  {
   "cell_type": "code",
   "execution_count": 64,
   "id": "c2ff1b9a",
   "metadata": {},
   "outputs": [
    {
     "name": "stdout",
     "output_type": "stream",
     "text": [
      "Pregnancies                  14.000000\n",
      "Glucose                     175.000000\n",
      "BloodPressure                62.000000\n",
      "SkinThickness                30.000000\n",
      "Insulin                       0.000000\n",
      "BMI                          33.600000\n",
      "DiabetesPedigreeFunction      0.212000\n",
      "Age                          38.000000\n",
      "risk                          0.963632\n",
      "Name: 455, dtype: float64\n",
      "\n",
      "Is the patient diabetic? 1\n"
     ]
    }
   ],
   "source": [
    "i = 4\n",
    "print(X_test_1.iloc[i,:])\n",
    "print(\"\\nIs the patient diabetic? {}\".format(y_test.loc[y_test.index[i]]))"
   ]
  },
  {
   "cell_type": "code",
   "execution_count": 65,
   "id": "744cc106",
   "metadata": {},
   "outputs": [
    {
     "name": "stdout",
     "output_type": "stream",
     "text": [
      "Pregnancies                   4.000000\n",
      "Glucose                     123.000000\n",
      "BloodPressure                62.000000\n",
      "SkinThickness                29.052718\n",
      "Insulin                       0.000000\n",
      "BMI                          32.000000\n",
      "DiabetesPedigreeFunction      0.226000\n",
      "Age                          35.000000\n",
      "risk                          0.430273\n",
      "Name: 264, dtype: float64\n",
      "\n",
      "Is the patient diabetic? 0\n"
     ]
    }
   ],
   "source": [
    "i = 80\n",
    "print(X_test_1.iloc[i,:])\n",
    "print(\"\\nIs the patient diabetic? {}\".format(y_test.loc[y_test.index[i]]))"
   ]
  },
  {
   "cell_type": "code",
   "execution_count": 66,
   "id": "b0a370ed",
   "metadata": {},
   "outputs": [],
   "source": [
    "# UNQ_C4 (UNIQUE CELL IDENTIFIER, DO NOT EDIT)\n",
    "def add_interactions(X):\n",
    "    \n",
    "    features = X.columns\n",
    "    m = len(features)\n",
    "    X_int = X.copy(deep=True)\n",
    "    \n",
    "    for i in range(m):\n",
    "        feature_i_name = features[i]\n",
    "        feature_i_data = X[feature_i_name]\n",
    "        \n",
    "        \n",
    "        for j in range(i+1, m): \n",
    "            feature_j_name = features[j]\n",
    "            feature_j_data = X[feature_j_name]\n",
    "            feature_i_j_name = f\"{feature_i_name}_x_{feature_j_name}\"\n",
    "            X_int[feature_i_j_name] = feature_i_data * feature_j_data\n",
    "    \n",
    "    return X_int"
   ]
  },
  {
   "cell_type": "code",
   "execution_count": 67,
   "id": "4b9b8c6d",
   "metadata": {},
   "outputs": [],
   "source": [
    "X_train_int = add_interactions(X_train)\n",
    "X_test_int = add_interactions(X_test)"
   ]
  },
  {
   "cell_type": "code",
   "execution_count": 68,
   "id": "89ed3463",
   "metadata": {},
   "outputs": [],
   "source": [
    "model_X_int = logistic_regression_model(X_train_int, y_train)"
   ]
  },
  {
   "cell_type": "code",
   "execution_count": 69,
   "id": "d520ad2c",
   "metadata": {},
   "outputs": [
    {
     "name": "stdout",
     "output_type": "stream",
     "text": [
      "c-index on test set without interactions is 0.8695\n",
      "c-index on test set with interactions is 0.8671\n"
     ]
    }
   ],
   "source": [
    "scores_X = model_X.predict_proba(X_test)[:, 1]\n",
    "c_index_X_test = get_cindex(y_test.values, scores_X)\n",
    "\n",
    "scores_X_int = model_X_int.predict_proba(X_test_int)[:, 1]\n",
    "c_index_X_int_test = get_cindex(y_test.values, scores_X_int)\n",
    "\n",
    "print(f\"c-index on test set without interactions is {c_index_X_test:.4f}\")\n",
    "print(f\"c-index on test set with interactions is {c_index_X_int_test:.4f}\")"
   ]
  },
  {
   "cell_type": "code",
   "execution_count": 70,
   "id": "2ca90edf",
   "metadata": {},
   "outputs": [
    {
     "data": {
      "image/png": "[encoded data removed]",
      "text/plain": [
       "<Figure size 432x288 with 1 Axes>"
      ]
     },
     "metadata": {
      "needs_background": "light"
     },
     "output_type": "display_data"
    }
   ],
   "source": [
    "int_coeffs = pd.DataFrame(data = model_X_int.coef_, columns = X_train_int.columns)\n",
    "int_coeffs.T.plot.bar(legend=None);"
   ]
  },
  {
   "cell_type": "code",
   "execution_count": null,
   "id": "8e838d4b",
   "metadata": {},
   "outputs": [],
   "source": []
  }
 ],
 "metadata": {
  "kernelspec": {
   "display_name": "Python 3 (ipykernel)",
   "language": "python",
   "name": "python3"
  },
  "language_info": {
   "codemirror_mode": {
    "name": "ipython",
    "version": 3
   },
   "file_extension": ".py",
   "mimetype": "text/x-python",
   "name": "python",
   "nbconvert_exporter": "python",
   "pygments_lexer": "ipython3",
   "version": "3.9.7"
  }
 },
 "nbformat": 4,
 "nbformat_minor": 5
}
